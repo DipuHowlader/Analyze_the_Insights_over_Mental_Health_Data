{
 "cells": [
  {
   "cell_type": "code",
   "execution_count": 2,
   "id": "25393905-680a-4518-9993-a577ec71c5f1",
   "metadata": {},
   "outputs": [],
   "source": [
    "import numpy as np\n",
    "import pandas as pd"
   ]
  },
  {
   "cell_type": "code",
   "execution_count": 3,
   "id": "d3e9e8c0-da7a-4779-bdf5-bf4d4077eb16",
   "metadata": {},
   "outputs": [],
   "source": [
    "df = pd.read_csv(\"./test.csv\")"
   ]
  },
  {
   "cell_type": "code",
   "execution_count": 4,
   "id": "83ffe511-95ab-4ed7-bac7-3921d7838356",
   "metadata": {},
   "outputs": [
    {
     "name": "stdout",
     "output_type": "stream",
     "text": [
      "<class 'pandas.core.frame.DataFrame'>\n",
      "RangeIndex: 93800 entries, 0 to 93799\n",
      "Data columns (total 19 columns):\n",
      " #   Column                                 Non-Null Count  Dtype  \n",
      "---  ------                                 --------------  -----  \n",
      " 0   id                                     93800 non-null  int64  \n",
      " 1   Name                                   93800 non-null  object \n",
      " 2   Gender                                 93800 non-null  object \n",
      " 3   Age                                    93800 non-null  float64\n",
      " 4   City                                   93800 non-null  object \n",
      " 5   Working Professional or Student        93800 non-null  object \n",
      " 6   Profession                             69168 non-null  object \n",
      " 7   Academic Pressure                      18767 non-null  float64\n",
      " 8   Work Pressure                          75022 non-null  float64\n",
      " 9   CGPA                                   18766 non-null  float64\n",
      " 10  Study Satisfaction                     18767 non-null  float64\n",
      " 11  Job Satisfaction                       75026 non-null  float64\n",
      " 12  Sleep Duration                         93800 non-null  object \n",
      " 13  Dietary Habits                         93795 non-null  object \n",
      " 14  Degree                                 93798 non-null  object \n",
      " 15  Have you ever had suicidal thoughts ?  93800 non-null  object \n",
      " 16  Work/Study Hours                       93800 non-null  float64\n",
      " 17  Financial Stress                       93800 non-null  float64\n",
      " 18  Family History of Mental Illness       93800 non-null  object \n",
      "dtypes: float64(8), int64(1), object(10)\n",
      "memory usage: 13.6+ MB\n"
     ]
    }
   ],
   "source": [
    "df.info()"
   ]
  },
  {
   "cell_type": "code",
   "execution_count": 6,
   "id": "16db7fe0-21c6-47ae-b15c-06fe6c2fd8c7",
   "metadata": {},
   "outputs": [
    {
     "data": {
      "text/html": [
       "<div>\n",
       "<style scoped>\n",
       "    .dataframe tbody tr th:only-of-type {\n",
       "        vertical-align: middle;\n",
       "    }\n",
       "\n",
       "    .dataframe tbody tr th {\n",
       "        vertical-align: top;\n",
       "    }\n",
       "\n",
       "    .dataframe thead th {\n",
       "        text-align: right;\n",
       "    }\n",
       "</style>\n",
       "<table border=\"1\" class=\"dataframe\">\n",
       "  <thead>\n",
       "    <tr style=\"text-align: right;\">\n",
       "      <th></th>\n",
       "      <th>id</th>\n",
       "      <th>Name</th>\n",
       "      <th>Gender</th>\n",
       "      <th>Age</th>\n",
       "      <th>City</th>\n",
       "      <th>Working Professional or Student</th>\n",
       "      <th>Profession</th>\n",
       "      <th>Academic Pressure</th>\n",
       "      <th>Work Pressure</th>\n",
       "      <th>CGPA</th>\n",
       "      <th>Study Satisfaction</th>\n",
       "      <th>Job Satisfaction</th>\n",
       "      <th>Sleep Duration</th>\n",
       "      <th>Dietary Habits</th>\n",
       "      <th>Degree</th>\n",
       "      <th>Have you ever had suicidal thoughts ?</th>\n",
       "      <th>Work/Study Hours</th>\n",
       "      <th>Financial Stress</th>\n",
       "      <th>Family History of Mental Illness</th>\n",
       "    </tr>\n",
       "  </thead>\n",
       "  <tbody>\n",
       "    <tr>\n",
       "      <th>0</th>\n",
       "      <td>140700</td>\n",
       "      <td>Shivam</td>\n",
       "      <td>Male</td>\n",
       "      <td>53.0</td>\n",
       "      <td>Visakhapatnam</td>\n",
       "      <td>Working Professional</td>\n",
       "      <td>Judge</td>\n",
       "      <td>NaN</td>\n",
       "      <td>2.0</td>\n",
       "      <td>NaN</td>\n",
       "      <td>NaN</td>\n",
       "      <td>5.0</td>\n",
       "      <td>Less than 5 hours</td>\n",
       "      <td>Moderate</td>\n",
       "      <td>LLB</td>\n",
       "      <td>No</td>\n",
       "      <td>9.0</td>\n",
       "      <td>3.0</td>\n",
       "      <td>Yes</td>\n",
       "    </tr>\n",
       "    <tr>\n",
       "      <th>1</th>\n",
       "      <td>140701</td>\n",
       "      <td>Sanya</td>\n",
       "      <td>Female</td>\n",
       "      <td>58.0</td>\n",
       "      <td>Kolkata</td>\n",
       "      <td>Working Professional</td>\n",
       "      <td>Educational Consultant</td>\n",
       "      <td>NaN</td>\n",
       "      <td>2.0</td>\n",
       "      <td>NaN</td>\n",
       "      <td>NaN</td>\n",
       "      <td>4.0</td>\n",
       "      <td>Less than 5 hours</td>\n",
       "      <td>Moderate</td>\n",
       "      <td>B.Ed</td>\n",
       "      <td>No</td>\n",
       "      <td>6.0</td>\n",
       "      <td>4.0</td>\n",
       "      <td>No</td>\n",
       "    </tr>\n",
       "    <tr>\n",
       "      <th>2</th>\n",
       "      <td>140702</td>\n",
       "      <td>Yash</td>\n",
       "      <td>Male</td>\n",
       "      <td>53.0</td>\n",
       "      <td>Jaipur</td>\n",
       "      <td>Working Professional</td>\n",
       "      <td>Teacher</td>\n",
       "      <td>NaN</td>\n",
       "      <td>4.0</td>\n",
       "      <td>NaN</td>\n",
       "      <td>NaN</td>\n",
       "      <td>1.0</td>\n",
       "      <td>7-8 hours</td>\n",
       "      <td>Moderate</td>\n",
       "      <td>B.Arch</td>\n",
       "      <td>Yes</td>\n",
       "      <td>12.0</td>\n",
       "      <td>4.0</td>\n",
       "      <td>No</td>\n",
       "    </tr>\n",
       "    <tr>\n",
       "      <th>3</th>\n",
       "      <td>140703</td>\n",
       "      <td>Nalini</td>\n",
       "      <td>Female</td>\n",
       "      <td>23.0</td>\n",
       "      <td>Rajkot</td>\n",
       "      <td>Student</td>\n",
       "      <td>NaN</td>\n",
       "      <td>5.0</td>\n",
       "      <td>NaN</td>\n",
       "      <td>6.84</td>\n",
       "      <td>1.0</td>\n",
       "      <td>NaN</td>\n",
       "      <td>More than 8 hours</td>\n",
       "      <td>Moderate</td>\n",
       "      <td>BSc</td>\n",
       "      <td>Yes</td>\n",
       "      <td>10.0</td>\n",
       "      <td>4.0</td>\n",
       "      <td>No</td>\n",
       "    </tr>\n",
       "    <tr>\n",
       "      <th>4</th>\n",
       "      <td>140704</td>\n",
       "      <td>Shaurya</td>\n",
       "      <td>Male</td>\n",
       "      <td>47.0</td>\n",
       "      <td>Kalyan</td>\n",
       "      <td>Working Professional</td>\n",
       "      <td>Teacher</td>\n",
       "      <td>NaN</td>\n",
       "      <td>5.0</td>\n",
       "      <td>NaN</td>\n",
       "      <td>NaN</td>\n",
       "      <td>5.0</td>\n",
       "      <td>7-8 hours</td>\n",
       "      <td>Moderate</td>\n",
       "      <td>BCA</td>\n",
       "      <td>Yes</td>\n",
       "      <td>3.0</td>\n",
       "      <td>4.0</td>\n",
       "      <td>No</td>\n",
       "    </tr>\n",
       "  </tbody>\n",
       "</table>\n",
       "</div>"
      ],
      "text/plain": [
       "       id     Name  Gender   Age           City  \\\n",
       "0  140700   Shivam    Male  53.0  Visakhapatnam   \n",
       "1  140701    Sanya  Female  58.0        Kolkata   \n",
       "2  140702     Yash    Male  53.0         Jaipur   \n",
       "3  140703   Nalini  Female  23.0         Rajkot   \n",
       "4  140704  Shaurya    Male  47.0         Kalyan   \n",
       "\n",
       "  Working Professional or Student              Profession  Academic Pressure  \\\n",
       "0            Working Professional                   Judge                NaN   \n",
       "1            Working Professional  Educational Consultant                NaN   \n",
       "2            Working Professional                 Teacher                NaN   \n",
       "3                         Student                     NaN                5.0   \n",
       "4            Working Professional                 Teacher                NaN   \n",
       "\n",
       "   Work Pressure  CGPA  Study Satisfaction  Job Satisfaction  \\\n",
       "0            2.0   NaN                 NaN               5.0   \n",
       "1            2.0   NaN                 NaN               4.0   \n",
       "2            4.0   NaN                 NaN               1.0   \n",
       "3            NaN  6.84                 1.0               NaN   \n",
       "4            5.0   NaN                 NaN               5.0   \n",
       "\n",
       "      Sleep Duration Dietary Habits  Degree  \\\n",
       "0  Less than 5 hours       Moderate     LLB   \n",
       "1  Less than 5 hours       Moderate    B.Ed   \n",
       "2          7-8 hours       Moderate  B.Arch   \n",
       "3  More than 8 hours       Moderate     BSc   \n",
       "4          7-8 hours       Moderate     BCA   \n",
       "\n",
       "  Have you ever had suicidal thoughts ?  Work/Study Hours  Financial Stress  \\\n",
       "0                                    No               9.0               3.0   \n",
       "1                                    No               6.0               4.0   \n",
       "2                                   Yes              12.0               4.0   \n",
       "3                                   Yes              10.0               4.0   \n",
       "4                                   Yes               3.0               4.0   \n",
       "\n",
       "  Family History of Mental Illness  \n",
       "0                              Yes  \n",
       "1                               No  \n",
       "2                               No  \n",
       "3                               No  \n",
       "4                               No  "
      ]
     },
     "execution_count": 6,
     "metadata": {},
     "output_type": "execute_result"
    }
   ],
   "source": [
    "df.head()"
   ]
  },
  {
   "cell_type": "code",
   "execution_count": 7,
   "id": "4f6ec183-fc87-4d84-aa3d-4795d419c061",
   "metadata": {},
   "outputs": [
    {
     "data": {
      "text/plain": [
       "0"
      ]
     },
     "execution_count": 7,
     "metadata": {},
     "output_type": "execute_result"
    }
   ],
   "source": [
    "df.duplicated().sum()"
   ]
  },
  {
   "cell_type": "code",
   "execution_count": 18,
   "id": "59b7bd6e-7297-41c6-94fd-6dc2ec09f083",
   "metadata": {},
   "outputs": [
    {
     "data": {
      "text/plain": [
       "id                                        0.000000\n",
       "Name                                      0.000000\n",
       "Gender                                    0.000000\n",
       "Age                                       0.000000\n",
       "City                                      0.000000\n",
       "Working Professional or Student           0.000000\n",
       "Profession                                0.000000\n",
       "Academic Pressure                        79.992537\n",
       "Work Pressure                            20.019190\n",
       "CGPA                                     79.993603\n",
       "Study Satisfaction                       79.992537\n",
       "Job Satisfaction                         20.014925\n",
       "Sleep Duration                            0.000000\n",
       "Dietary Habits                            0.005330\n",
       "Degree                                    0.002132\n",
       "Have you ever had suicidal thoughts ?     0.000000\n",
       "Work/Study Hours                          0.000000\n",
       "Financial Stress                          0.000000\n",
       "Family History of Mental Illness          0.000000\n",
       "dtype: float64"
      ]
     },
     "execution_count": 18,
     "metadata": {},
     "output_type": "execute_result"
    }
   ],
   "source": [
    "df.isnull().mean() *100"
   ]
  },
  {
   "cell_type": "code",
   "execution_count": 9,
   "id": "54808f06-f35b-4bad-aed3-4bdaf3cf0964",
   "metadata": {},
   "outputs": [
    {
     "data": {
      "text/plain": [
       "(93800, 19)"
      ]
     },
     "execution_count": 9,
     "metadata": {},
     "output_type": "execute_result"
    }
   ],
   "source": [
    "df.shape"
   ]
  },
  {
   "cell_type": "code",
   "execution_count": 10,
   "id": "3bd46327-4806-429e-9a49-7907b0902544",
   "metadata": {},
   "outputs": [
    {
     "data": {
      "text/html": [
       "<div>\n",
       "<style scoped>\n",
       "    .dataframe tbody tr th:only-of-type {\n",
       "        vertical-align: middle;\n",
       "    }\n",
       "\n",
       "    .dataframe tbody tr th {\n",
       "        vertical-align: top;\n",
       "    }\n",
       "\n",
       "    .dataframe thead th {\n",
       "        text-align: right;\n",
       "    }\n",
       "</style>\n",
       "<table border=\"1\" class=\"dataframe\">\n",
       "  <thead>\n",
       "    <tr style=\"text-align: right;\">\n",
       "      <th></th>\n",
       "      <th>id</th>\n",
       "      <th>Name</th>\n",
       "      <th>Gender</th>\n",
       "      <th>Age</th>\n",
       "      <th>City</th>\n",
       "      <th>Working Professional or Student</th>\n",
       "      <th>Profession</th>\n",
       "      <th>Academic Pressure</th>\n",
       "      <th>Work Pressure</th>\n",
       "      <th>CGPA</th>\n",
       "      <th>Study Satisfaction</th>\n",
       "      <th>Job Satisfaction</th>\n",
       "      <th>Sleep Duration</th>\n",
       "      <th>Dietary Habits</th>\n",
       "      <th>Degree</th>\n",
       "      <th>Have you ever had suicidal thoughts ?</th>\n",
       "      <th>Work/Study Hours</th>\n",
       "      <th>Financial Stress</th>\n",
       "      <th>Family History of Mental Illness</th>\n",
       "    </tr>\n",
       "  </thead>\n",
       "  <tbody>\n",
       "    <tr>\n",
       "      <th>91152</th>\n",
       "      <td>231852</td>\n",
       "      <td>Atharv</td>\n",
       "      <td>Male</td>\n",
       "      <td>52.0</td>\n",
       "      <td>Delhi</td>\n",
       "      <td>Working Professional</td>\n",
       "      <td>Teacher</td>\n",
       "      <td>NaN</td>\n",
       "      <td>4.0</td>\n",
       "      <td>NaN</td>\n",
       "      <td>NaN</td>\n",
       "      <td>5.0</td>\n",
       "      <td>More than 8 hours</td>\n",
       "      <td>Unhealthy</td>\n",
       "      <td>B.Arch</td>\n",
       "      <td>No</td>\n",
       "      <td>1.0</td>\n",
       "      <td>4.0</td>\n",
       "      <td>Yes</td>\n",
       "    </tr>\n",
       "    <tr>\n",
       "      <th>66764</th>\n",
       "      <td>207464</td>\n",
       "      <td>Aariv</td>\n",
       "      <td>Male</td>\n",
       "      <td>50.0</td>\n",
       "      <td>Nashik</td>\n",
       "      <td>Working Professional</td>\n",
       "      <td>Chef</td>\n",
       "      <td>NaN</td>\n",
       "      <td>1.0</td>\n",
       "      <td>NaN</td>\n",
       "      <td>NaN</td>\n",
       "      <td>2.0</td>\n",
       "      <td>Less than 5 hours</td>\n",
       "      <td>Unhealthy</td>\n",
       "      <td>BHM</td>\n",
       "      <td>No</td>\n",
       "      <td>6.0</td>\n",
       "      <td>4.0</td>\n",
       "      <td>Yes</td>\n",
       "    </tr>\n",
       "    <tr>\n",
       "      <th>58642</th>\n",
       "      <td>199342</td>\n",
       "      <td>Vivan</td>\n",
       "      <td>Male</td>\n",
       "      <td>34.0</td>\n",
       "      <td>Patna</td>\n",
       "      <td>Working Professional</td>\n",
       "      <td>Teacher</td>\n",
       "      <td>NaN</td>\n",
       "      <td>2.0</td>\n",
       "      <td>NaN</td>\n",
       "      <td>NaN</td>\n",
       "      <td>5.0</td>\n",
       "      <td>5-6 hours</td>\n",
       "      <td>Healthy</td>\n",
       "      <td>B.Ed</td>\n",
       "      <td>No</td>\n",
       "      <td>3.0</td>\n",
       "      <td>4.0</td>\n",
       "      <td>No</td>\n",
       "    </tr>\n",
       "    <tr>\n",
       "      <th>76314</th>\n",
       "      <td>217014</td>\n",
       "      <td>Nandini</td>\n",
       "      <td>Female</td>\n",
       "      <td>24.0</td>\n",
       "      <td>Hyderabad</td>\n",
       "      <td>Student</td>\n",
       "      <td>NaN</td>\n",
       "      <td>4.0</td>\n",
       "      <td>NaN</td>\n",
       "      <td>9.41</td>\n",
       "      <td>2.0</td>\n",
       "      <td>NaN</td>\n",
       "      <td>7-8 hours</td>\n",
       "      <td>Healthy</td>\n",
       "      <td>B.Arch</td>\n",
       "      <td>Yes</td>\n",
       "      <td>0.0</td>\n",
       "      <td>2.0</td>\n",
       "      <td>No</td>\n",
       "    </tr>\n",
       "    <tr>\n",
       "      <th>33637</th>\n",
       "      <td>174337</td>\n",
       "      <td>Nalini</td>\n",
       "      <td>Female</td>\n",
       "      <td>44.0</td>\n",
       "      <td>Hyderabad</td>\n",
       "      <td>Working Professional</td>\n",
       "      <td>Teacher</td>\n",
       "      <td>NaN</td>\n",
       "      <td>3.0</td>\n",
       "      <td>NaN</td>\n",
       "      <td>NaN</td>\n",
       "      <td>1.0</td>\n",
       "      <td>Less than 5 hours</td>\n",
       "      <td>Unhealthy</td>\n",
       "      <td>B.Ed</td>\n",
       "      <td>Yes</td>\n",
       "      <td>11.0</td>\n",
       "      <td>4.0</td>\n",
       "      <td>Yes</td>\n",
       "    </tr>\n",
       "    <tr>\n",
       "      <th>41640</th>\n",
       "      <td>182340</td>\n",
       "      <td>Vikram</td>\n",
       "      <td>Male</td>\n",
       "      <td>52.0</td>\n",
       "      <td>Vasai-Virar</td>\n",
       "      <td>Working Professional</td>\n",
       "      <td>Pharmacist</td>\n",
       "      <td>NaN</td>\n",
       "      <td>2.0</td>\n",
       "      <td>NaN</td>\n",
       "      <td>NaN</td>\n",
       "      <td>5.0</td>\n",
       "      <td>7-8 hours</td>\n",
       "      <td>Unhealthy</td>\n",
       "      <td>B.Pharm</td>\n",
       "      <td>No</td>\n",
       "      <td>8.0</td>\n",
       "      <td>1.0</td>\n",
       "      <td>No</td>\n",
       "    </tr>\n",
       "    <tr>\n",
       "      <th>11541</th>\n",
       "      <td>152241</td>\n",
       "      <td>Sneha</td>\n",
       "      <td>Female</td>\n",
       "      <td>20.0</td>\n",
       "      <td>Indore</td>\n",
       "      <td>Working Professional</td>\n",
       "      <td>NaN</td>\n",
       "      <td>NaN</td>\n",
       "      <td>3.0</td>\n",
       "      <td>NaN</td>\n",
       "      <td>NaN</td>\n",
       "      <td>3.0</td>\n",
       "      <td>7-8 hours</td>\n",
       "      <td>Moderate</td>\n",
       "      <td>Class 12</td>\n",
       "      <td>Yes</td>\n",
       "      <td>7.0</td>\n",
       "      <td>4.0</td>\n",
       "      <td>Yes</td>\n",
       "    </tr>\n",
       "    <tr>\n",
       "      <th>92928</th>\n",
       "      <td>233628</td>\n",
       "      <td>Zara</td>\n",
       "      <td>Female</td>\n",
       "      <td>40.0</td>\n",
       "      <td>Patna</td>\n",
       "      <td>Working Professional</td>\n",
       "      <td>Sales Executive</td>\n",
       "      <td>NaN</td>\n",
       "      <td>2.0</td>\n",
       "      <td>NaN</td>\n",
       "      <td>NaN</td>\n",
       "      <td>3.0</td>\n",
       "      <td>More than 8 hours</td>\n",
       "      <td>Healthy</td>\n",
       "      <td>B.Com</td>\n",
       "      <td>Yes</td>\n",
       "      <td>2.0</td>\n",
       "      <td>3.0</td>\n",
       "      <td>Yes</td>\n",
       "    </tr>\n",
       "    <tr>\n",
       "      <th>10056</th>\n",
       "      <td>150756</td>\n",
       "      <td>Nikhil</td>\n",
       "      <td>Male</td>\n",
       "      <td>58.0</td>\n",
       "      <td>Vasai-Virar</td>\n",
       "      <td>Working Professional</td>\n",
       "      <td>Customer Support</td>\n",
       "      <td>NaN</td>\n",
       "      <td>5.0</td>\n",
       "      <td>NaN</td>\n",
       "      <td>NaN</td>\n",
       "      <td>2.0</td>\n",
       "      <td>5-6 hours</td>\n",
       "      <td>Unhealthy</td>\n",
       "      <td>BA</td>\n",
       "      <td>No</td>\n",
       "      <td>4.0</td>\n",
       "      <td>2.0</td>\n",
       "      <td>No</td>\n",
       "    </tr>\n",
       "    <tr>\n",
       "      <th>59915</th>\n",
       "      <td>200615</td>\n",
       "      <td>Raunak</td>\n",
       "      <td>Male</td>\n",
       "      <td>55.0</td>\n",
       "      <td>Jaipur</td>\n",
       "      <td>Working Professional</td>\n",
       "      <td>Mechanical Engineer</td>\n",
       "      <td>NaN</td>\n",
       "      <td>1.0</td>\n",
       "      <td>NaN</td>\n",
       "      <td>NaN</td>\n",
       "      <td>5.0</td>\n",
       "      <td>7-8 hours</td>\n",
       "      <td>Unhealthy</td>\n",
       "      <td>BSc</td>\n",
       "      <td>No</td>\n",
       "      <td>9.0</td>\n",
       "      <td>2.0</td>\n",
       "      <td>No</td>\n",
       "    </tr>\n",
       "    <tr>\n",
       "      <th>22498</th>\n",
       "      <td>163198</td>\n",
       "      <td>Mayank</td>\n",
       "      <td>Male</td>\n",
       "      <td>38.0</td>\n",
       "      <td>Srinagar</td>\n",
       "      <td>Working Professional</td>\n",
       "      <td>Teacher</td>\n",
       "      <td>NaN</td>\n",
       "      <td>2.0</td>\n",
       "      <td>NaN</td>\n",
       "      <td>NaN</td>\n",
       "      <td>2.0</td>\n",
       "      <td>7-8 hours</td>\n",
       "      <td>Moderate</td>\n",
       "      <td>LLB</td>\n",
       "      <td>Yes</td>\n",
       "      <td>5.0</td>\n",
       "      <td>2.0</td>\n",
       "      <td>No</td>\n",
       "    </tr>\n",
       "    <tr>\n",
       "      <th>68392</th>\n",
       "      <td>209092</td>\n",
       "      <td>Anika</td>\n",
       "      <td>Female</td>\n",
       "      <td>49.0</td>\n",
       "      <td>Rajkot</td>\n",
       "      <td>Working Professional</td>\n",
       "      <td>Doctor</td>\n",
       "      <td>NaN</td>\n",
       "      <td>5.0</td>\n",
       "      <td>NaN</td>\n",
       "      <td>NaN</td>\n",
       "      <td>5.0</td>\n",
       "      <td>Less than 5 hours</td>\n",
       "      <td>Moderate</td>\n",
       "      <td>MBBS</td>\n",
       "      <td>Yes</td>\n",
       "      <td>1.0</td>\n",
       "      <td>4.0</td>\n",
       "      <td>Yes</td>\n",
       "    </tr>\n",
       "    <tr>\n",
       "      <th>86901</th>\n",
       "      <td>227601</td>\n",
       "      <td>Divya</td>\n",
       "      <td>Female</td>\n",
       "      <td>58.0</td>\n",
       "      <td>Bangalore</td>\n",
       "      <td>Working Professional</td>\n",
       "      <td>Entrepreneur</td>\n",
       "      <td>NaN</td>\n",
       "      <td>4.0</td>\n",
       "      <td>NaN</td>\n",
       "      <td>NaN</td>\n",
       "      <td>5.0</td>\n",
       "      <td>7-8 hours</td>\n",
       "      <td>Moderate</td>\n",
       "      <td>MSc</td>\n",
       "      <td>Yes</td>\n",
       "      <td>1.0</td>\n",
       "      <td>5.0</td>\n",
       "      <td>No</td>\n",
       "    </tr>\n",
       "    <tr>\n",
       "      <th>47850</th>\n",
       "      <td>188550</td>\n",
       "      <td>Riya</td>\n",
       "      <td>Female</td>\n",
       "      <td>51.0</td>\n",
       "      <td>Chennai</td>\n",
       "      <td>Working Professional</td>\n",
       "      <td>Electrician</td>\n",
       "      <td>NaN</td>\n",
       "      <td>1.0</td>\n",
       "      <td>NaN</td>\n",
       "      <td>NaN</td>\n",
       "      <td>1.0</td>\n",
       "      <td>7-8 hours</td>\n",
       "      <td>Healthy</td>\n",
       "      <td>BCA</td>\n",
       "      <td>Yes</td>\n",
       "      <td>5.0</td>\n",
       "      <td>2.0</td>\n",
       "      <td>Yes</td>\n",
       "    </tr>\n",
       "    <tr>\n",
       "      <th>64759</th>\n",
       "      <td>205459</td>\n",
       "      <td>Rishi</td>\n",
       "      <td>Male</td>\n",
       "      <td>51.0</td>\n",
       "      <td>Srinagar</td>\n",
       "      <td>Working Professional</td>\n",
       "      <td>Content Writer</td>\n",
       "      <td>NaN</td>\n",
       "      <td>5.0</td>\n",
       "      <td>NaN</td>\n",
       "      <td>NaN</td>\n",
       "      <td>2.0</td>\n",
       "      <td>7-8 hours</td>\n",
       "      <td>Healthy</td>\n",
       "      <td>MCA</td>\n",
       "      <td>No</td>\n",
       "      <td>3.0</td>\n",
       "      <td>1.0</td>\n",
       "      <td>No</td>\n",
       "    </tr>\n",
       "    <tr>\n",
       "      <th>12971</th>\n",
       "      <td>153671</td>\n",
       "      <td>Satyam</td>\n",
       "      <td>Male</td>\n",
       "      <td>58.0</td>\n",
       "      <td>Nagpur</td>\n",
       "      <td>Working Professional</td>\n",
       "      <td>NaN</td>\n",
       "      <td>NaN</td>\n",
       "      <td>4.0</td>\n",
       "      <td>NaN</td>\n",
       "      <td>NaN</td>\n",
       "      <td>5.0</td>\n",
       "      <td>More than 8 hours</td>\n",
       "      <td>Moderate</td>\n",
       "      <td>Class 12</td>\n",
       "      <td>No</td>\n",
       "      <td>2.0</td>\n",
       "      <td>4.0</td>\n",
       "      <td>Yes</td>\n",
       "    </tr>\n",
       "    <tr>\n",
       "      <th>80516</th>\n",
       "      <td>221216</td>\n",
       "      <td>Kunal</td>\n",
       "      <td>Male</td>\n",
       "      <td>52.0</td>\n",
       "      <td>Ghaziabad</td>\n",
       "      <td>Working Professional</td>\n",
       "      <td>Entrepreneur</td>\n",
       "      <td>NaN</td>\n",
       "      <td>3.0</td>\n",
       "      <td>NaN</td>\n",
       "      <td>NaN</td>\n",
       "      <td>5.0</td>\n",
       "      <td>More than 8 hours</td>\n",
       "      <td>Unhealthy</td>\n",
       "      <td>MSc</td>\n",
       "      <td>Yes</td>\n",
       "      <td>6.0</td>\n",
       "      <td>1.0</td>\n",
       "      <td>No</td>\n",
       "    </tr>\n",
       "    <tr>\n",
       "      <th>46555</th>\n",
       "      <td>187255</td>\n",
       "      <td>Parth</td>\n",
       "      <td>Male</td>\n",
       "      <td>44.0</td>\n",
       "      <td>Pune</td>\n",
       "      <td>Working Professional</td>\n",
       "      <td>Pharmacist</td>\n",
       "      <td>NaN</td>\n",
       "      <td>2.0</td>\n",
       "      <td>NaN</td>\n",
       "      <td>NaN</td>\n",
       "      <td>2.0</td>\n",
       "      <td>5-6 hours</td>\n",
       "      <td>Moderate</td>\n",
       "      <td>B.Pharm</td>\n",
       "      <td>No</td>\n",
       "      <td>7.0</td>\n",
       "      <td>1.0</td>\n",
       "      <td>No</td>\n",
       "    </tr>\n",
       "    <tr>\n",
       "      <th>53053</th>\n",
       "      <td>193753</td>\n",
       "      <td>Nikhil</td>\n",
       "      <td>Male</td>\n",
       "      <td>57.0</td>\n",
       "      <td>Kanpur</td>\n",
       "      <td>Working Professional</td>\n",
       "      <td>Teacher</td>\n",
       "      <td>NaN</td>\n",
       "      <td>2.0</td>\n",
       "      <td>NaN</td>\n",
       "      <td>NaN</td>\n",
       "      <td>2.0</td>\n",
       "      <td>5-6 hours</td>\n",
       "      <td>Unhealthy</td>\n",
       "      <td>LLM</td>\n",
       "      <td>No</td>\n",
       "      <td>7.0</td>\n",
       "      <td>5.0</td>\n",
       "      <td>Yes</td>\n",
       "    </tr>\n",
       "    <tr>\n",
       "      <th>58196</th>\n",
       "      <td>198896</td>\n",
       "      <td>Tanisha</td>\n",
       "      <td>Female</td>\n",
       "      <td>20.0</td>\n",
       "      <td>Srinagar</td>\n",
       "      <td>Student</td>\n",
       "      <td>NaN</td>\n",
       "      <td>1.0</td>\n",
       "      <td>NaN</td>\n",
       "      <td>9.91</td>\n",
       "      <td>4.0</td>\n",
       "      <td>NaN</td>\n",
       "      <td>More than 8 hours</td>\n",
       "      <td>Unhealthy</td>\n",
       "      <td>Class 12</td>\n",
       "      <td>Yes</td>\n",
       "      <td>8.0</td>\n",
       "      <td>5.0</td>\n",
       "      <td>No</td>\n",
       "    </tr>\n",
       "  </tbody>\n",
       "</table>\n",
       "</div>"
      ],
      "text/plain": [
       "           id     Name  Gender   Age         City  \\\n",
       "91152  231852   Atharv    Male  52.0        Delhi   \n",
       "66764  207464    Aariv    Male  50.0       Nashik   \n",
       "58642  199342    Vivan    Male  34.0        Patna   \n",
       "76314  217014  Nandini  Female  24.0    Hyderabad   \n",
       "33637  174337   Nalini  Female  44.0    Hyderabad   \n",
       "41640  182340   Vikram    Male  52.0  Vasai-Virar   \n",
       "11541  152241    Sneha  Female  20.0       Indore   \n",
       "92928  233628     Zara  Female  40.0        Patna   \n",
       "10056  150756   Nikhil    Male  58.0  Vasai-Virar   \n",
       "59915  200615   Raunak    Male  55.0       Jaipur   \n",
       "22498  163198   Mayank    Male  38.0     Srinagar   \n",
       "68392  209092    Anika  Female  49.0       Rajkot   \n",
       "86901  227601    Divya  Female  58.0    Bangalore   \n",
       "47850  188550     Riya  Female  51.0      Chennai   \n",
       "64759  205459    Rishi    Male  51.0     Srinagar   \n",
       "12971  153671   Satyam    Male  58.0       Nagpur   \n",
       "80516  221216    Kunal    Male  52.0    Ghaziabad   \n",
       "46555  187255    Parth    Male  44.0         Pune   \n",
       "53053  193753   Nikhil    Male  57.0       Kanpur   \n",
       "58196  198896  Tanisha  Female  20.0     Srinagar   \n",
       "\n",
       "      Working Professional or Student           Profession  Academic Pressure  \\\n",
       "91152            Working Professional              Teacher                NaN   \n",
       "66764            Working Professional                 Chef                NaN   \n",
       "58642            Working Professional              Teacher                NaN   \n",
       "76314                         Student                  NaN                4.0   \n",
       "33637            Working Professional              Teacher                NaN   \n",
       "41640            Working Professional           Pharmacist                NaN   \n",
       "11541            Working Professional                  NaN                NaN   \n",
       "92928            Working Professional      Sales Executive                NaN   \n",
       "10056            Working Professional     Customer Support                NaN   \n",
       "59915            Working Professional  Mechanical Engineer                NaN   \n",
       "22498            Working Professional              Teacher                NaN   \n",
       "68392            Working Professional               Doctor                NaN   \n",
       "86901            Working Professional         Entrepreneur                NaN   \n",
       "47850            Working Professional          Electrician                NaN   \n",
       "64759            Working Professional       Content Writer                NaN   \n",
       "12971            Working Professional                  NaN                NaN   \n",
       "80516            Working Professional         Entrepreneur                NaN   \n",
       "46555            Working Professional           Pharmacist                NaN   \n",
       "53053            Working Professional              Teacher                NaN   \n",
       "58196                         Student                  NaN                1.0   \n",
       "\n",
       "       Work Pressure  CGPA  Study Satisfaction  Job Satisfaction  \\\n",
       "91152            4.0   NaN                 NaN               5.0   \n",
       "66764            1.0   NaN                 NaN               2.0   \n",
       "58642            2.0   NaN                 NaN               5.0   \n",
       "76314            NaN  9.41                 2.0               NaN   \n",
       "33637            3.0   NaN                 NaN               1.0   \n",
       "41640            2.0   NaN                 NaN               5.0   \n",
       "11541            3.0   NaN                 NaN               3.0   \n",
       "92928            2.0   NaN                 NaN               3.0   \n",
       "10056            5.0   NaN                 NaN               2.0   \n",
       "59915            1.0   NaN                 NaN               5.0   \n",
       "22498            2.0   NaN                 NaN               2.0   \n",
       "68392            5.0   NaN                 NaN               5.0   \n",
       "86901            4.0   NaN                 NaN               5.0   \n",
       "47850            1.0   NaN                 NaN               1.0   \n",
       "64759            5.0   NaN                 NaN               2.0   \n",
       "12971            4.0   NaN                 NaN               5.0   \n",
       "80516            3.0   NaN                 NaN               5.0   \n",
       "46555            2.0   NaN                 NaN               2.0   \n",
       "53053            2.0   NaN                 NaN               2.0   \n",
       "58196            NaN  9.91                 4.0               NaN   \n",
       "\n",
       "          Sleep Duration Dietary Habits    Degree  \\\n",
       "91152  More than 8 hours      Unhealthy    B.Arch   \n",
       "66764  Less than 5 hours      Unhealthy       BHM   \n",
       "58642          5-6 hours        Healthy      B.Ed   \n",
       "76314          7-8 hours        Healthy    B.Arch   \n",
       "33637  Less than 5 hours      Unhealthy      B.Ed   \n",
       "41640          7-8 hours      Unhealthy   B.Pharm   \n",
       "11541          7-8 hours       Moderate  Class 12   \n",
       "92928  More than 8 hours        Healthy     B.Com   \n",
       "10056          5-6 hours      Unhealthy        BA   \n",
       "59915          7-8 hours      Unhealthy       BSc   \n",
       "22498          7-8 hours       Moderate       LLB   \n",
       "68392  Less than 5 hours       Moderate      MBBS   \n",
       "86901          7-8 hours       Moderate       MSc   \n",
       "47850          7-8 hours        Healthy       BCA   \n",
       "64759          7-8 hours        Healthy       MCA   \n",
       "12971  More than 8 hours       Moderate  Class 12   \n",
       "80516  More than 8 hours      Unhealthy       MSc   \n",
       "46555          5-6 hours       Moderate   B.Pharm   \n",
       "53053          5-6 hours      Unhealthy       LLM   \n",
       "58196  More than 8 hours      Unhealthy  Class 12   \n",
       "\n",
       "      Have you ever had suicidal thoughts ?  Work/Study Hours  \\\n",
       "91152                                    No               1.0   \n",
       "66764                                    No               6.0   \n",
       "58642                                    No               3.0   \n",
       "76314                                   Yes               0.0   \n",
       "33637                                   Yes              11.0   \n",
       "41640                                    No               8.0   \n",
       "11541                                   Yes               7.0   \n",
       "92928                                   Yes               2.0   \n",
       "10056                                    No               4.0   \n",
       "59915                                    No               9.0   \n",
       "22498                                   Yes               5.0   \n",
       "68392                                   Yes               1.0   \n",
       "86901                                   Yes               1.0   \n",
       "47850                                   Yes               5.0   \n",
       "64759                                    No               3.0   \n",
       "12971                                    No               2.0   \n",
       "80516                                   Yes               6.0   \n",
       "46555                                    No               7.0   \n",
       "53053                                    No               7.0   \n",
       "58196                                   Yes               8.0   \n",
       "\n",
       "       Financial Stress Family History of Mental Illness  \n",
       "91152               4.0                              Yes  \n",
       "66764               4.0                              Yes  \n",
       "58642               4.0                               No  \n",
       "76314               2.0                               No  \n",
       "33637               4.0                              Yes  \n",
       "41640               1.0                               No  \n",
       "11541               4.0                              Yes  \n",
       "92928               3.0                              Yes  \n",
       "10056               2.0                               No  \n",
       "59915               2.0                               No  \n",
       "22498               2.0                               No  \n",
       "68392               4.0                              Yes  \n",
       "86901               5.0                               No  \n",
       "47850               2.0                              Yes  \n",
       "64759               1.0                               No  \n",
       "12971               4.0                              Yes  \n",
       "80516               1.0                               No  \n",
       "46555               1.0                               No  \n",
       "53053               5.0                              Yes  \n",
       "58196               5.0                               No  "
      ]
     },
     "execution_count": 10,
     "metadata": {},
     "output_type": "execute_result"
    }
   ],
   "source": [
    "df.sample(20)"
   ]
  },
  {
   "cell_type": "code",
   "execution_count": 19,
   "id": "7a7d7fb7-af5c-4257-89ce-00d42b7b7721",
   "metadata": {},
   "outputs": [
    {
     "data": {
      "text/plain": [
       "0.0"
      ]
     },
     "execution_count": 19,
     "metadata": {},
     "output_type": "execute_result"
    }
   ],
   "source": [
    "df[\"Profession\"].isnull().mean() * 100"
   ]
  },
  {
   "cell_type": "code",
   "execution_count": 20,
   "id": "ebb14306-dc39-44c2-baf4-e912a0ea8797",
   "metadata": {},
   "outputs": [
    {
     "data": {
      "text/plain": [
       "0"
      ]
     },
     "execution_count": 20,
     "metadata": {},
     "output_type": "execute_result"
    }
   ],
   "source": [
    "df[\"Profession\"].isnull().sum()"
   ]
  },
  {
   "cell_type": "code",
   "execution_count": 21,
   "id": "a5e8255a-5caa-4c27-b61e-060bc2f105cd",
   "metadata": {},
   "outputs": [
    {
     "data": {
      "text/plain": [
       "array(['Judge', 'Educational Consultant', 'Teacher', 'Unknown',\n",
       "       'Customer Support', 'Chemist', 'Content Writer', 'Consultant',\n",
       "       'HR Manager', 'Research Analyst', 'Digital Marketer',\n",
       "       'Electrician', 'Marketing Manager', 'Plumber', 'Pharmacist',\n",
       "       'Lawyer', 'Pilot', 'Architect', 'Chef', 'Graphic Designer',\n",
       "       'Entrepreneur', 'Manager', 'Mechanical Engineer',\n",
       "       'Software Engineer', 'Travel Consultant', 'Finanancial Analyst',\n",
       "       'Financial Analyst', 'Doctor', 'Business Analyst',\n",
       "       'UX/UI Designer', 'Sales Executive', 'Data Scientist',\n",
       "       'Accountant', 'Researcher', 'Civil Engineer', 'Investment Banker',\n",
       "       'Unhealthy', 'B.Ed', 'Student', 'Working Professional', '3M', 'ME',\n",
       "       'B.Pharm', '24th', 'Manvi', 'Yogesh', 'Samar', 'Surat', 'PhD',\n",
       "       'M.Ed', 'MD', 'Name', 'MCA', 'Simran', 'Analyst', 'Profession',\n",
       "       'Unemployed', 'BBA', 'M.Tech', 'LLM', 'Surgeon', 'No', 'Unveil',\n",
       "       'City Consultant', 'M.Pharm'], dtype=object)"
      ]
     },
     "execution_count": 21,
     "metadata": {},
     "output_type": "execute_result"
    }
   ],
   "source": [
    "df[\"Profession\"].unique()"
   ]
  },
  {
   "cell_type": "code",
   "execution_count": 22,
   "id": "0126ae1a-7666-46a7-9c8f-192910b1ca95",
   "metadata": {},
   "outputs": [
    {
     "data": {
      "text/plain": [
       "Profession\n",
       "Unknown           24632\n",
       "Teacher           16385\n",
       "Content Writer     5187\n",
       "Architect          2982\n",
       "Consultant         2920\n",
       "                  ...  \n",
       "24th                  1\n",
       "B.Pharm               1\n",
       "ME                    1\n",
       "3M                    1\n",
       "M.Pharm               1\n",
       "Name: count, Length: 65, dtype: int64"
      ]
     },
     "execution_count": 22,
     "metadata": {},
     "output_type": "execute_result"
    }
   ],
   "source": [
    "df[\"Profession\"].value_counts()"
   ]
  },
  {
   "cell_type": "code",
   "execution_count": 23,
   "id": "ab0353b5-9c76-4d4c-8d40-12df186a8098",
   "metadata": {},
   "outputs": [
    {
     "data": {
      "text/plain": [
       "65"
      ]
     },
     "execution_count": 23,
     "metadata": {},
     "output_type": "execute_result"
    }
   ],
   "source": [
    "len(df[\"Profession\"].value_counts())"
   ]
  },
  {
   "cell_type": "code",
   "execution_count": 24,
   "id": "14f35708-ff92-424a-a0f9-d22db22ef0d2",
   "metadata": {},
   "outputs": [],
   "source": [
    "df['Profession'] = df['Profession'].fillna('Unknown')"
   ]
  },
  {
   "cell_type": "code",
   "execution_count": 25,
   "id": "0642d1e7-deca-4b46-b588-00f9eb2d440a",
   "metadata": {},
   "outputs": [
    {
     "data": {
      "text/plain": [
       "75033"
      ]
     },
     "execution_count": 25,
     "metadata": {},
     "output_type": "execute_result"
    }
   ],
   "source": [
    "df[\"Academic Pressure\"].isnull().sum()"
   ]
  },
  {
   "cell_type": "code",
   "execution_count": 26,
   "id": "2be63242-b0b8-4024-8f5a-e186e70d1750",
   "metadata": {},
   "outputs": [
    {
     "data": {
      "text/plain": [
       "79.99253731343283"
      ]
     },
     "execution_count": 26,
     "metadata": {},
     "output_type": "execute_result"
    }
   ],
   "source": [
    "df[\"Academic Pressure\"].isnull().mean() * 100"
   ]
  },
  {
   "cell_type": "code",
   "execution_count": 27,
   "id": "b1510e9b-8fb3-445d-973c-babeecac1981",
   "metadata": {},
   "outputs": [
    {
     "name": "stdout",
     "output_type": "stream",
     "text": [
      "Rows remaining: 18767 out of 93800\n",
      "count    18767.000000\n",
      "mean         3.158576\n",
      "std          1.386666\n",
      "min          1.000000\n",
      "25%          2.000000\n",
      "50%          3.000000\n",
      "75%          4.000000\n",
      "max          5.000000\n",
      "Name: Academic Pressure, dtype: float64\n"
     ]
    }
   ],
   "source": [
    "df_cleaned = df.dropna(subset=['Academic Pressure'])\n",
    "print(f\"Rows remaining: {len(df_cleaned)} out of {len(df)}\")\n",
    "print(df_cleaned['Academic Pressure'].describe())"
   ]
  },
  {
   "cell_type": "code",
   "execution_count": 28,
   "id": "a649085d-9a70-43b0-a698-1c88a8b7e7c9",
   "metadata": {},
   "outputs": [],
   "source": [
    "df[\"Academic Pressure\"] = df[\"Academic Pressure\"].fillna(df[\"Academic Pressure\"].mean())"
   ]
  },
  {
   "cell_type": "code",
   "execution_count": 29,
   "id": "6ba447ea-d420-4c37-a539-2015ed5d388e",
   "metadata": {
    "scrolled": true
   },
   "outputs": [
    {
     "data": {
      "text/plain": [
       "0        2.0\n",
       "1        2.0\n",
       "2        4.0\n",
       "3        NaN\n",
       "4        5.0\n",
       "        ... \n",
       "93795    3.0\n",
       "93796    5.0\n",
       "93797    NaN\n",
       "93798    4.0\n",
       "93799    5.0\n",
       "Name: Work Pressure, Length: 93800, dtype: float64"
      ]
     },
     "execution_count": 29,
     "metadata": {},
     "output_type": "execute_result"
    }
   ],
   "source": [
    "df[\"Work Pressure\"]"
   ]
  },
  {
   "cell_type": "code",
   "execution_count": 30,
   "id": "b4fb5bad-8c09-4932-a837-b5357096e68c",
   "metadata": {},
   "outputs": [],
   "source": [
    "df[\"Work Pressure\"] = df[\"Work Pressure\"].fillna(df[\"Work Pressure\"].mean())"
   ]
  },
  {
   "cell_type": "code",
   "execution_count": 31,
   "id": "5da4d68d-70d9-4616-9c7c-0137b78261fc",
   "metadata": {},
   "outputs": [],
   "source": [
    "numerical_df = df.select_dtypes(include=[np.number])"
   ]
  },
  {
   "cell_type": "code",
   "execution_count": 33,
   "id": "0ce2be7d-6f33-4e59-b1bb-ad12a3b7832f",
   "metadata": {},
   "outputs": [],
   "source": [
    "# correlation = numerical_df.corr()['Depression'].drop('Depression')  # Drop self-correlation\n",
    "# print(\"Pearson Correlation with 'Depression':\")\n",
    "# print(correlation)"
   ]
  },
  {
   "cell_type": "code",
   "execution_count": 34,
   "id": "db01e445-3946-4589-82b0-4ebaebd27130",
   "metadata": {},
   "outputs": [],
   "source": [
    "df[\"CGPA\"] = df[\"CGPA\"].fillna(df[\"CGPA\"].mean())"
   ]
  },
  {
   "cell_type": "code",
   "execution_count": 35,
   "id": "9e5973b0-65c6-4426-b72a-abc91d0f5174",
   "metadata": {},
   "outputs": [
    {
     "data": {
      "text/plain": [
       "0"
      ]
     },
     "execution_count": 35,
     "metadata": {},
     "output_type": "execute_result"
    }
   ],
   "source": [
    "df[\"CGPA\"].isnull().sum()"
   ]
  },
  {
   "cell_type": "code",
   "execution_count": 36,
   "id": "21e52bb3-daa6-46be-9cc6-bbf35b50f767",
   "metadata": {},
   "outputs": [
    {
     "data": {
      "text/plain": [
       "75033"
      ]
     },
     "execution_count": 36,
     "metadata": {},
     "output_type": "execute_result"
    }
   ],
   "source": [
    "df[\"Study Satisfaction\"].isnull().sum()"
   ]
  },
  {
   "cell_type": "code",
   "execution_count": 37,
   "id": "ddf7452e-9c3b-40bd-a0ab-87292528fd45",
   "metadata": {},
   "outputs": [
    {
     "data": {
      "text/plain": [
       "18774"
      ]
     },
     "execution_count": 37,
     "metadata": {},
     "output_type": "execute_result"
    }
   ],
   "source": [
    "df[\"Job Satisfaction\"].isnull().sum()"
   ]
  },
  {
   "cell_type": "code",
   "execution_count": 38,
   "id": "f77034c6-1c88-493c-a6b3-4cef6bde5bb1",
   "metadata": {},
   "outputs": [],
   "source": [
    "df[\"Job Satisfaction\"] = df[\"Job Satisfaction\"].fillna(df[\"Job Satisfaction\"].mean())"
   ]
  },
  {
   "cell_type": "code",
   "execution_count": 39,
   "id": "a58841fe-d00a-4794-a1d9-00d16ac80566",
   "metadata": {},
   "outputs": [],
   "source": [
    "df[\"Study Satisfaction\"] = df[\"Study Satisfaction\"].fillna(df[\"Study Satisfaction\"].mean())"
   ]
  },
  {
   "cell_type": "code",
   "execution_count": 44,
   "id": "3e90a269-e8b7-48d3-bdde-d4b409030690",
   "metadata": {},
   "outputs": [
    {
     "data": {
      "text/plain": [
       "Dietary Habits\n",
       "Moderate     33018\n",
       "Unhealthy    30792\n",
       "Healthy      29968\n",
       "unknown         22\n",
       "Name: count, dtype: int64"
      ]
     },
     "execution_count": 44,
     "metadata": {},
     "output_type": "execute_result"
    }
   ],
   "source": [
    "df[\"Dietary Habits\"].value_counts()"
   ]
  },
  {
   "cell_type": "code",
   "execution_count": 41,
   "id": "1e231532-0b32-41e6-bf51-0abf88a55833",
   "metadata": {},
   "outputs": [
    {
     "data": {
      "text/plain": [
       "array(['Moderate', 'Healthy', 'Unhealthy', 'More Healthy', 'No', 'Indoor',\n",
       "       'Prachi', nan, 'Male', 'Less Healthy', 'Mealy', 'Resistant', 'MCA',\n",
       "       '5 Healthy', 'Academic', 'Educational', 'Soham', '5 Unhealthy',\n",
       "       'Vivaan', 'Raghav', '1.0', 'Naina', 'Kolkata'], dtype=object)"
      ]
     },
     "execution_count": 41,
     "metadata": {},
     "output_type": "execute_result"
    }
   ],
   "source": [
    "df[\"Dietary Habits\"].unique()"
   ]
  },
  {
   "cell_type": "code",
   "execution_count": 45,
   "id": "004245b7-7eff-4121-ae3d-a0dfe6f03776",
   "metadata": {},
   "outputs": [],
   "source": [
    "df['Dietary Habits'] = df['Dietary Habits'].replace('More Healthy', 'Healthy')\n",
    "df['Dietary Habits'] = df['Dietary Habits'].replace('Less than Healthy', 'Moderate')\n",
    "df['Dietary Habits'] = df['Dietary Habits'].replace('No Healthy', 'Unhealthy')\n",
    "df['Dietary Habits'] = df['Dietary Habits'].replace('No', 'Unhealthy')\n",
    "df['Dietary Habits'] = df['Dietary Habits'].replace('Yes', 'Healthy')"
   ]
  },
  {
   "cell_type": "code",
   "execution_count": 46,
   "id": "27f5b844-d2a1-4408-ae25-cb300aa79da4",
   "metadata": {},
   "outputs": [],
   "source": [
    "for item in df[\"Dietary Habits\"].unique():\n",
    "    if not (item ==\"Healthy\" or item == \"Moderate\" or item == \"Unhealthy\"):\n",
    "        df['Dietary Habits'] = df['Dietary Habits'].replace(item, 'unknown')"
   ]
  },
  {
   "cell_type": "code",
   "execution_count": 47,
   "id": "fc5b2cfe-f198-48a4-9bae-b836cbcac3b2",
   "metadata": {},
   "outputs": [
    {
     "data": {
      "text/plain": [
       "Degree\n",
       "Class 12    9812\n",
       "B.Ed        7762\n",
       "B.Arch      6037\n",
       "B.Com       5439\n",
       "B.Pharm     3987\n",
       "            ... \n",
       "Bian           1\n",
       "Kavya          1\n",
       "M.M.Ed         1\n",
       "Vrinda         1\n",
       "BHCA           1\n",
       "Name: count, Length: 87, dtype: int64"
      ]
     },
     "execution_count": 47,
     "metadata": {},
     "output_type": "execute_result"
    }
   ],
   "source": [
    "df[\"Degree\"].value_counts()"
   ]
  },
  {
   "cell_type": "code",
   "execution_count": 48,
   "id": "0300dcb1-9107-40cf-be39-7101350c8f6b",
   "metadata": {},
   "outputs": [
    {
     "data": {
      "text/plain": [
       "array(['LLB', 'B.Ed', 'B.Arch', 'BSc', 'BCA', 'B.Com', 'MA', 'BA', 'BBA',\n",
       "       'Class 12', 'MD', 'MBA', 'M.Ed', 'M.Pharm', 'BHM', 'LLM', 'PhD',\n",
       "       'M.Com', 'BE', 'MBBS', 'B.Tech', 'ME', 'MCA', 'B.Pharm', 'MHM',\n",
       "       'M.Tech', 'BTech', 'MSc', 'BArch', 'B. Gender', 'B.Study_Hours',\n",
       "       'Advait', 'M.Arch', 'A.Ed', 'Mechanical Engineer', 'B.H', 'B.Sc',\n",
       "       'B', 'M.UI', 'Vibha', 'B BCA', 'B.Press', 'BPharm', 'Gagan',\n",
       "       'MPharm', 'Travel Consultant', '5.65', 'Business Analyst',\n",
       "       'Eshita', 'B_Com', 'Navya', 'B._Pharm', 'Pune', 'Bian', 'B.M.Com',\n",
       "       'Kavya', 'M.M.Ed', 'S.Pharm', 'Vrinda', 'M', 'E.Ed', '3.0',\n",
       "       'Moham', 'B.BA', nan, 'I.Ed', 'Degree', 'Magan', 'B B.Tech',\n",
       "       'M.B.Ed', 'Bhopal', 'B Financial Analyst', 'GCA', 'G.Ed', 'Rupak',\n",
       "       'RCA', 'B.CA', 'PCA', 'J.Ed', 'BH', 'BEd', '8.95', 'Aadhya', '20',\n",
       "       'Banchal', 'M.', 'K.Ed', 'BHCA'], dtype=object)"
      ]
     },
     "execution_count": 48,
     "metadata": {},
     "output_type": "execute_result"
    }
   ],
   "source": [
    "df[\"Degree\"].unique()"
   ]
  },
  {
   "cell_type": "code",
   "execution_count": 49,
   "id": "7af42805-434c-4bca-b87a-04199616b5d8",
   "metadata": {},
   "outputs": [],
   "source": [
    "bachelor_degrees = ['BHM', \"B B.Com\",'Bachelor','BBA', 'BPA', 'BCA', 'BE', 'B.Ed', 'B.Com', 'BA', 'B.Tech', 'B.Arch', 'BSc', 'BEd', 'B.Sc', 'BArch', 'B BA', 'B.B.Arch', 'B.Student', 'B']\n",
    "master_degrees = ['MCA', 'ME', 'MA', 'MBA', 'M.Com', 'MHM', 'M.Tech', 'M.Ed', 'MSc', 'MPA', 'M.Arch', 'MTech', 'MEd', 'M_Tech', 'M.S', 'M', 'M. Business Analyst']\n",
    "law_degrees = ['LLB', 'LLM', 'LLBA', 'LLTech', 'LL.Com', 'LLCom', 'LL B.Ed', 'LLEd', 'LLS', 'Law']\n",
    "pharmacy_degrees = ['B.Pharm', 'Doctor', 'M.Pharm', 'BPharm', 'MPharm', 'H_Pharm', 'P.Pharm', 'S.Pharm', 'N.Pharm']\n",
    "medical_degrees = ['MBBS', 'MD']\n",
    "school_level = ['Class 11', 'Class 12']\n",
    "roles = ['UX/UI Designer','UX/UI Designer', 'Entrepreneur', 'Business Analyst', 'Business Analyst', 'HR Manager', 'Plumber', 'Business Analyst', 'Data Scientist', 'HR Manager', 'Entrepreneur', 'Working Professional', 'Doctor', 'Plumber', 'M. Business Analyst']\n",
    "noise = ['20', '5.61', '5.56', '7.06', '8.56', '5.88', '24', '29', '0', 'CGPA', 'Degree', 'Nalini', 'Veda', 'Bhopal', 'Kalyan', 'Pihu', 'Aarav', 'Vrinda', 'Bhavesh', 'Brit', 'Ritik', 'Brithika', 'Jhanvi', 'Lata', 'Navya', 'Mahika', 'Mthanya', 'Esha', 'Mihir', 'Advait', 'Vivaan', 'Badhya', 'Unite', 'B.03', 'B.3.79', 'S.Tech', 'E.Tech', 'P.Com', 'L.Ed', 'K.Ed', 'LHM', 'S.Arch', 'Marsh', 'HCA', 'ACA', 'RCA', 'LCA', 'BB', 'BH', 'MPharm']\n",
    "\n",
    "# Mapping dictionary\n",
    "replace_dict = (\n",
    "    {k: 'Bachelor' for k in bachelor_degrees} |\n",
    "    {k: 'Master' for k in master_degrees} |\n",
    "    {k: 'Law' for k in law_degrees} |\n",
    "    {k: 'Pharmacy' for k in pharmacy_degrees} |\n",
    "    {k: 'Medical' for k in medical_degrees} |\n",
    "    {k: 'School' for k in school_level} |\n",
    "    {k: 'roles' for k in roles} |  # Keep roles as-is\n",
    "    {k: 'Other' for k in noise} |\n",
    "    {np.nan: 'Unknown'}  # Handle nulls\n",
    ")\n",
    "\n",
    "# Apply replacements\n",
    "df['Degree'] = df['Degree'].replace(replace_dict)"
   ]
  },
  {
   "cell_type": "code",
   "execution_count": 50,
   "id": "f5e042d1-6d07-43bd-b766-4b04cb7f2347",
   "metadata": {},
   "outputs": [],
   "source": [
    "df['Financial Stress'] = df['Financial Stress'].fillna(df['Financial Stress'].mean())\n"
   ]
  },
  {
   "cell_type": "code",
   "execution_count": 51,
   "id": "0cd1d007-cfbf-4c1a-8e7f-90be1c33fb01",
   "metadata": {},
   "outputs": [
    {
     "data": {
      "text/plain": [
       "id                                       0\n",
       "Name                                     0\n",
       "Gender                                   0\n",
       "Age                                      0\n",
       "City                                     0\n",
       "Working Professional or Student          0\n",
       "Profession                               0\n",
       "Academic Pressure                        0\n",
       "Work Pressure                            0\n",
       "CGPA                                     0\n",
       "Study Satisfaction                       0\n",
       "Job Satisfaction                         0\n",
       "Sleep Duration                           0\n",
       "Dietary Habits                           0\n",
       "Degree                                   0\n",
       "Have you ever had suicidal thoughts ?    0\n",
       "Work/Study Hours                         0\n",
       "Financial Stress                         0\n",
       "Family History of Mental Illness         0\n",
       "dtype: int64"
      ]
     },
     "execution_count": 51,
     "metadata": {},
     "output_type": "execute_result"
    }
   ],
   "source": [
    "df.isnull().sum()"
   ]
  },
  {
   "cell_type": "code",
   "execution_count": 52,
   "id": "991ae833-e963-4e6f-a833-ab52438d092d",
   "metadata": {},
   "outputs": [],
   "source": [
    "df.to_csv(\"processed_test.csv\")"
   ]
  },
  {
   "cell_type": "code",
   "execution_count": null,
   "id": "5d5f0530-b525-4b7b-acae-0f2c19553b13",
   "metadata": {},
   "outputs": [],
   "source": []
  }
 ],
 "metadata": {
  "kernelspec": {
   "display_name": "Python 3 (ipykernel)",
   "language": "python",
   "name": "python3"
  },
  "language_info": {
   "codemirror_mode": {
    "name": "ipython",
    "version": 3
   },
   "file_extension": ".py",
   "mimetype": "text/x-python",
   "name": "python",
   "nbconvert_exporter": "python",
   "pygments_lexer": "ipython3",
   "version": "3.12.7"
  }
 },
 "nbformat": 4,
 "nbformat_minor": 5
}
